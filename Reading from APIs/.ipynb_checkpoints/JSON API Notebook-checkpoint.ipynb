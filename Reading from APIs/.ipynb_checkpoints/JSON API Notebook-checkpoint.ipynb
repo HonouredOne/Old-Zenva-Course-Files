{
 "cells": [
  {
   "cell_type": "code",
   "execution_count": 42,
   "id": "60a7bf1c",
   "metadata": {},
   "outputs": [],
   "source": [
    "from urllib.request import urlopen\n",
    "import json"
   ]
  },
  {
   "cell_type": "code",
   "execution_count": 55,
   "id": "50d7b3ea",
   "metadata": {
    "scrolled": true
   },
   "outputs": [],
   "source": [
    "url = 'https://www.data.qld.gov.au/api/3/action/datastore_search?resource_id=7afe7233-fae0-4024-bc98-3a72f05675bd&limit=50'\n",
    "url_result = urlopen(url)\n",
    "raw_data = url_result.read()\n",
    "json_data = json.loads(raw_data)\n",
    "result = json_data['result']\n",
    "records = result['records']"
   ]
  },
  {
   "cell_type": "code",
   "execution_count": 56,
   "id": "3f55c0ac",
   "metadata": {},
   "outputs": [],
   "source": [
    "filename = 'Storm Tide Data.csv'\n",
    "f = open(filename, 'w')\n",
    "\n",
    "headers = 'Site, DateTime, Water Level, Prediction, Residual\\n'\n",
    "f.write(headers)\n",
    "\n",
    "for record in records:\n",
    "    row_string = ''\n",
    "    row_string += record['Site'] + ','\n",
    "    row_string += record['DateTime'] + ','\n",
    "    row_string += str(record['Water Level']) + ','\n",
    "    row_string += str(record['Prediction']) + ','\n",
    "    row_string += str(record['Residual']) + '\\n'\n",
    "    f.write(row_string)"
   ]
  },
  {
   "cell_type": "code",
   "execution_count": null,
   "id": "4c2e9756",
   "metadata": {},
   "outputs": [],
   "source": []
  }
 ],
 "metadata": {
  "kernelspec": {
   "display_name": "Python 3",
   "language": "python",
   "name": "python3"
  },
  "language_info": {
   "codemirror_mode": {
    "name": "ipython",
    "version": 3
   },
   "file_extension": ".py",
   "mimetype": "text/x-python",
   "name": "python",
   "nbconvert_exporter": "python",
   "pygments_lexer": "ipython3",
   "version": "3.8.8"
  }
 },
 "nbformat": 4,
 "nbformat_minor": 5
}
