{
 "cells": [
  {
   "cell_type": "code",
   "execution_count": 1,
   "id": "26cf9538",
   "metadata": {},
   "outputs": [],
   "source": [
    "import tensorflow as tf\n",
    "import matplotlib.pyplot as plt\n",
    "import numpy as np"
   ]
  },
  {
   "cell_type": "code",
   "execution_count": 6,
   "id": "ef8539cd",
   "metadata": {},
   "outputs": [],
   "source": [
    "m = 2\n",
    "b = 0.5\n",
    "x = np.linspace(0, 4, 100)\n",
    "y = m * x + b + np.random.randn(*x.shape) + 0.25"
   ]
  },
  {
   "cell_type": "code",
   "execution_count": 7,
   "id": "2515c9ce",
   "metadata": {},
   "outputs": [
    {
     "data": {
      "text/plain": [
       "<matplotlib.collections.PathCollection at 0x23ec31c9d00>"
      ]
     },
     "execution_count": 7,
     "metadata": {},
     "output_type": "execute_result"
    },
    {
     "data": {
      "image/png": "[encoded data removed]",
      "text/plain": [
       "<Figure size 432x288 with 1 Axes>"
      ]
     },
     "metadata": {
      "needs_background": "light"
     },
     "output_type": "display_data"
    }
   ],
   "source": [
    "plt.scatter(x,y)"
   ]
  },
  {
   "cell_type": "code",
   "execution_count": 10,
   "id": "23808cf3",
   "metadata": {},
   "outputs": [],
   "source": [
    "class Model:\n",
    "    def __init__(self):\n",
    "        self.weight = tf.Variable(10.0)\n",
    "        self.bias = tf.Variable(10.0)\n",
    "        \n",
    "    def __call__(self, x):\n",
    "        return self.weight * x + self.bias\n",
    "    \n",
    "# model = Model()\n",
    "# model(5,0)\n",
    "# self.weight.assign_sub(15,0)"
   ]
  },
  {
   "cell_type": "code",
   "execution_count": 12,
   "id": "fa3d8a05",
   "metadata": {},
   "outputs": [],
   "source": [
    "def calculate_loss(y_actual, y_output):\n",
    "    return tf.reduce_mean(tf.square(y_actual - y_output))"
   ]
  },
  {
   "cell_type": "code",
   "execution_count": 16,
   "id": "4ef588b3",
   "metadata": {},
   "outputs": [],
   "source": [
    "def train(model, x, y, learning_rate):\n",
    "    with tf.GradientTape() as gt:\n",
    "        y_output = model(x)\n",
    "        loss = calculate_loss(y, y_output)\n",
    "        \n",
    "    new_weight, new_bias = gt.gradient(loss, [model.weight, model.bias])\n",
    "    model.weight.assign_sub(new_weight * learning_rate)\n",
    "    model.bias.assign_sub(new_bias * learning_rate)"
   ]
  },
  {
   "cell_type": "code",
   "execution_count": 19,
   "id": "6d226999",
   "metadata": {},
   "outputs": [
    {
     "name": "stdout",
     "output_type": "stream",
     "text": [
      "Epoch: 0, loss: 720.8016967773438\n",
      "Epoch: 1, loss: 512.1000366210938\n",
      "Epoch: 2, loss: 364.11297607421875\n",
      "Epoch: 3, loss: 259.1510009765625\n",
      "Epoch: 4, loss: 184.6820831298828\n",
      "Epoch: 5, loss: 131.82723999023438\n",
      "Epoch: 6, loss: 94.29560852050781\n",
      "Epoch: 7, loss: 67.62950897216797\n",
      "Epoch: 8, loss: 48.670013427734375\n",
      "Epoch: 9, loss: 35.17838668823242\n",
      "Epoch: 10, loss: 25.567665100097656\n",
      "Epoch: 11, loss: 18.712810516357422\n",
      "Epoch: 12, loss: 13.8160400390625\n",
      "Epoch: 13, loss: 10.311511039733887\n",
      "Epoch: 14, loss: 7.797755241394043\n",
      "Epoch: 15, loss: 5.989805221557617\n",
      "Epoch: 16, loss: 4.685309410095215\n",
      "Epoch: 17, loss: 3.740481376647949\n",
      "Epoch: 18, loss: 3.0530872344970703\n",
      "Epoch: 19, loss: 2.550368547439575\n",
      "Epoch: 20, loss: 2.1804909706115723\n",
      "Epoch: 21, loss: 1.906478762626648\n",
      "Epoch: 22, loss: 1.7019137144088745\n",
      "Epoch: 23, loss: 1.547885537147522\n",
      "Epoch: 24, loss: 1.4308266639709473\n",
      "Epoch: 25, loss: 1.3409759998321533\n",
      "Epoch: 26, loss: 1.2712887525558472\n",
      "Epoch: 27, loss: 1.216660499572754\n",
      "Epoch: 28, loss: 1.1733756065368652\n",
      "Epoch: 29, loss: 1.1387155055999756\n",
      "Epoch: 30, loss: 1.1106786727905273\n",
      "Epoch: 31, loss: 1.0877811908721924\n",
      "Epoch: 32, loss: 1.0689146518707275\n",
      "Epoch: 33, loss: 1.0532433986663818\n",
      "Epoch: 34, loss: 1.0401321649551392\n",
      "Epoch: 35, loss: 1.0290926694869995\n",
      "Epoch: 36, loss: 1.0197460651397705\n",
      "Epoch: 37, loss: 1.0117946863174438\n",
      "Epoch: 38, loss: 1.0050026178359985\n",
      "Epoch: 39, loss: 0.9991809725761414\n",
      "Epoch: 40, loss: 0.9941763281822205\n",
      "Epoch: 41, loss: 0.9898639917373657\n",
      "Epoch: 42, loss: 0.9861403107643127\n",
      "Epoch: 43, loss: 0.9829199314117432\n",
      "Epoch: 44, loss: 0.9801306128501892\n",
      "Epoch: 45, loss: 0.9777122735977173\n",
      "Epoch: 46, loss: 0.9756132364273071\n",
      "Epoch: 47, loss: 0.9737903475761414\n",
      "Epoch: 48, loss: 0.9722061157226562\n",
      "Epoch: 49, loss: 0.9708285331726074\n",
      "Epoch: 50, loss: 0.9696303009986877\n",
      "Epoch: 51, loss: 0.9685875773429871\n",
      "Epoch: 52, loss: 0.967680037021637\n",
      "Epoch: 53, loss: 0.9668898582458496\n",
      "Epoch: 54, loss: 0.9662017822265625\n",
      "Epoch: 55, loss: 0.9656026363372803\n",
      "Epoch: 56, loss: 0.965080738067627\n",
      "Epoch: 57, loss: 0.9646260142326355\n",
      "Epoch: 58, loss: 0.9642298817634583\n",
      "Epoch: 59, loss: 0.9638848900794983\n",
      "Epoch: 60, loss: 0.9635843634605408\n",
      "Epoch: 61, loss: 0.9633224606513977\n",
      "Epoch: 62, loss: 0.9630941152572632\n",
      "Epoch: 63, loss: 0.9628953337669373\n",
      "Epoch: 64, loss: 0.9627220034599304\n",
      "Epoch: 65, loss: 0.9625709652900696\n",
      "Epoch: 66, loss: 0.9624393582344055\n",
      "Epoch: 67, loss: 0.9623246788978577\n",
      "Epoch: 68, loss: 0.9622247219085693\n",
      "Epoch: 69, loss: 0.9621376991271973\n",
      "Epoch: 70, loss: 0.9620617628097534\n",
      "Epoch: 71, loss: 0.9619956016540527\n",
      "Epoch: 72, loss: 0.9619380235671997\n",
      "Epoch: 73, loss: 0.9618878364562988\n",
      "Epoch: 74, loss: 0.9618440270423889\n",
      "Epoch: 75, loss: 0.9618058800697327\n",
      "Epoch: 76, loss: 0.961772620677948\n",
      "Epoch: 77, loss: 0.9617437124252319\n",
      "Epoch: 78, loss: 0.9617184996604919\n",
      "Epoch: 79, loss: 0.961696445941925\n",
      "Epoch: 80, loss: 0.9616772532463074\n",
      "Epoch: 81, loss: 0.961660623550415\n",
      "Epoch: 82, loss: 0.9616460204124451\n",
      "Epoch: 83, loss: 0.9616333246231079\n",
      "Epoch: 84, loss: 0.961622416973114\n",
      "Epoch: 85, loss: 0.9616127014160156\n",
      "Epoch: 86, loss: 0.9616042375564575\n",
      "Epoch: 87, loss: 0.9615969657897949\n",
      "Epoch: 88, loss: 0.961590588092804\n",
      "Epoch: 89, loss: 0.9615851044654846\n",
      "Epoch: 90, loss: 0.961580216884613\n",
      "Epoch: 91, loss: 0.9615759253501892\n",
      "Epoch: 92, loss: 0.9615722894668579\n",
      "Epoch: 93, loss: 0.96156907081604\n",
      "Epoch: 94, loss: 0.9615662097930908\n",
      "Epoch: 95, loss: 0.9615638256072998\n",
      "Epoch: 96, loss: 0.9615617394447327\n",
      "Epoch: 97, loss: 0.9615598917007446\n",
      "Epoch: 98, loss: 0.9615584015846252\n",
      "Epoch: 99, loss: 0.9615568518638611\n"
     ]
    }
   ],
   "source": [
    "model = Model()\n",
    "epochs = 100\n",
    "learning_rate = 0.15\n",
    "for epoch in range(epochs):\n",
    "    y_output = model(x)\n",
    "    loss = calculate_loss(y, y_output)\n",
    "    print(f\"Epoch: {epoch}, loss: {loss.numpy()}\")\n",
    "    train(model, x, y, learning_rate)"
   ]
  },
  {
   "cell_type": "code",
   "execution_count": 20,
   "id": "07bd4687",
   "metadata": {},
   "outputs": [
    {
     "name": "stdout",
     "output_type": "stream",
     "text": [
      "2.1176\n",
      "0.55949503\n"
     ]
    }
   ],
   "source": [
    "print(model.weight.numpy())\n",
    "print(model.bias.numpy())"
   ]
  },
  {
   "cell_type": "code",
   "execution_count": 23,
   "id": "b2af29a3",
   "metadata": {},
   "outputs": [
    {
     "data": {
      "text/plain": [
       "<matplotlib.collections.PathCollection at 0x23eca7755e0>"
      ]
     },
     "execution_count": 23,
     "metadata": {},
     "output_type": "execute_result"
    },
    {
     "data": {
      "image/png": "[encoded data removed]",
      "text/plain": [
       "<Figure size 432x288 with 1 Axes>"
      ]
     },
     "metadata": {
      "needs_background": "light"
     },
     "output_type": "display_data"
    }
   ],
   "source": [
    "new_x = np.linspace(0, 4, 50)\n",
    "new_y = model.weight.numpy() * new_x + model.bias.numpy()\n",
    "plt.scatter(new_x, new_y)\n",
    "plt.scatter(x,y)"
   ]
  },
  {
   "cell_type": "code",
   "execution_count": null,
   "id": "7ee9368c",
   "metadata": {},
   "outputs": [],
   "source": []
  }
 ],
 "metadata": {
  "kernelspec": {
   "display_name": "Python 3",
   "language": "python",
   "name": "python3"
  },
  "language_info": {
   "codemirror_mode": {
    "name": "ipython",
    "version": 3
   },
   "file_extension": ".py",
   "mimetype": "text/x-python",
   "name": "python",
   "nbconvert_exporter": "python",
   "pygments_lexer": "ipython3",
   "version": "3.8.8"
  }
 },
 "nbformat": 4,
 "nbformat_minor": 5
}
