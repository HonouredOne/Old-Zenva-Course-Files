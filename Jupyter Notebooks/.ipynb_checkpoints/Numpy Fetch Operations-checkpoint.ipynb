{
 "cells": [
  {
   "cell_type": "markdown",
   "id": "8d1eb16b",
   "metadata": {},
   "source": [
    "Operations to get elements or properties of an array"
   ]
  },
  {
   "cell_type": "code",
   "execution_count": 2,
   "id": "b4826919",
   "metadata": {},
   "outputs": [],
   "source": [
    "import numpy as np"
   ]
  },
  {
   "cell_type": "code",
   "execution_count": 3,
   "id": "b6858be9",
   "metadata": {},
   "outputs": [
    {
     "name": "stdout",
     "output_type": "stream",
     "text": [
      "[ 0  1  2  3  4  5  6  7  8  9 10]\n"
     ]
    }
   ],
   "source": [
    "an_array = np.arange(0, 11)\n",
    "print(an_array)"
   ]
  },
  {
   "cell_type": "code",
   "execution_count": 8,
   "id": "2751298f",
   "metadata": {},
   "outputs": [
    {
     "name": "stdout",
     "output_type": "stream",
     "text": [
      "0\n",
      "10\n"
     ]
    }
   ],
   "source": [
    "first_element = an_array[0]\n",
    "print(first_element)\n",
    "last_element = an_array[10]\n",
    "print(last_element)"
   ]
  },
  {
   "cell_type": "code",
   "execution_count": 10,
   "id": "724cb708",
   "metadata": {},
   "outputs": [
    {
     "name": "stdout",
     "output_type": "stream",
     "text": [
      "[0 1 2 3 4]\n"
     ]
    }
   ],
   "source": [
    "first_five = an_array[0:5]\n",
    "first_five = an_array[:5]\n",
    "print(first_five)"
   ]
  },
  {
   "cell_type": "code",
   "execution_count": 15,
   "id": "24d7fcb6",
   "metadata": {},
   "outputs": [
    {
     "name": "stdout",
     "output_type": "stream",
     "text": [
      "[ 6  7  8  9 10]\n"
     ]
    }
   ],
   "source": [
    "last_five = an_array[6:]\n",
    "print(last_five)"
   ]
  },
  {
   "cell_type": "code",
   "execution_count": 16,
   "id": "e68bada3",
   "metadata": {},
   "outputs": [
    {
     "name": "stdout",
     "output_type": "stream",
     "text": [
      "[4 3 2 1 0]\n"
     ]
    }
   ],
   "source": [
    "first_five_reversed = an_array[4::-1]\n",
    "print(first_five_reversed)"
   ]
  },
  {
   "cell_type": "code",
   "execution_count": 17,
   "id": "7fb81730",
   "metadata": {},
   "outputs": [
    {
     "name": "stdout",
     "output_type": "stream",
     "text": [
      "[ 9 10]\n"
     ]
    }
   ],
   "source": [
    "final_two = an_array[-2:]\n",
    "print(final_two)"
   ]
  },
  {
   "cell_type": "code",
   "execution_count": 18,
   "id": "5b752d0d",
   "metadata": {},
   "outputs": [
    {
     "name": "stdout",
     "output_type": "stream",
     "text": [
      "11\n"
     ]
    }
   ],
   "source": [
    "print(an_array.size)"
   ]
  },
  {
   "cell_type": "code",
   "execution_count": 19,
   "id": "fc7b2abb",
   "metadata": {},
   "outputs": [
    {
     "name": "stdout",
     "output_type": "stream",
     "text": [
      "10\n"
     ]
    }
   ],
   "source": [
    "print(np.amax(an_array))"
   ]
  },
  {
   "cell_type": "code",
   "execution_count": 20,
   "id": "9c78c7ad",
   "metadata": {},
   "outputs": [
    {
     "name": "stdout",
     "output_type": "stream",
     "text": [
      "0\n"
     ]
    }
   ],
   "source": [
    "print(np.amin(an_array))"
   ]
  },
  {
   "cell_type": "code",
   "execution_count": 21,
   "id": "1248e1c1",
   "metadata": {},
   "outputs": [
    {
     "name": "stdout",
     "output_type": "stream",
     "text": [
      "5.0\n"
     ]
    }
   ],
   "source": [
    "print(np.average(an_array))"
   ]
  },
  {
   "cell_type": "code",
   "execution_count": null,
   "id": "ab1aaa7e",
   "metadata": {},
   "outputs": [],
   "source": []
  }
 ],
 "metadata": {
  "kernelspec": {
   "display_name": "Python 3",
   "language": "python",
   "name": "python3"
  },
  "language_info": {
   "codemirror_mode": {
    "name": "ipython",
    "version": 3
   },
   "file_extension": ".py",
   "mimetype": "text/x-python",
   "name": "python",
   "nbconvert_exporter": "python",
   "pygments_lexer": "ipython3",
   "version": "3.8.8"
  }
 },
 "nbformat": 4,
 "nbformat_minor": 5
}
