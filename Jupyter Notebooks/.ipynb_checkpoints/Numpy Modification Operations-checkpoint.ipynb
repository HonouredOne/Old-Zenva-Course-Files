{
 "cells": [
  {
   "cell_type": "markdown",
   "id": "ac93e931",
   "metadata": {},
   "source": [
    "Operations to modify numpy arrays or the elements within "
   ]
  },
  {
   "cell_type": "code",
   "execution_count": 1,
   "id": "13ed3982",
   "metadata": {},
   "outputs": [],
   "source": [
    "import numpy as np"
   ]
  },
  {
   "cell_type": "code",
   "execution_count": 2,
   "id": "e3e38d39",
   "metadata": {},
   "outputs": [
    {
     "name": "stdout",
     "output_type": "stream",
     "text": [
      "[0 1 2 3 4 5]\n"
     ]
    }
   ],
   "source": [
    "an_array = np.arange(0, 6)\n",
    "print(an_array)"
   ]
  },
  {
   "cell_type": "code",
   "execution_count": 4,
   "id": "35e5ef13",
   "metadata": {},
   "outputs": [
    {
     "name": "stdout",
     "output_type": "stream",
     "text": [
      "[10  1  2  3  4  5]\n"
     ]
    }
   ],
   "source": [
    "an_array[0] = 10\n",
    "print(an_array)"
   ]
  },
  {
   "cell_type": "code",
   "execution_count": 6,
   "id": "35e6af18",
   "metadata": {},
   "outputs": [
    {
     "name": "stdout",
     "output_type": "stream",
     "text": [
      "[0 1 2 3 4 5 6 7]\n"
     ]
    }
   ],
   "source": [
    "an_array = np.arange(0, 6)\n",
    "print(np.append(an_array, [6, 7]))"
   ]
  },
  {
   "cell_type": "code",
   "execution_count": 8,
   "id": "aff95c1e",
   "metadata": {},
   "outputs": [
    {
     "name": "stdout",
     "output_type": "stream",
     "text": [
      "[ 0 10 11  1  2  3  4  5]\n"
     ]
    }
   ],
   "source": [
    "print(np.insert(an_array, 1, [10, 11]))"
   ]
  },
  {
   "cell_type": "code",
   "execution_count": 9,
   "id": "69d258b8",
   "metadata": {},
   "outputs": [
    {
     "name": "stdout",
     "output_type": "stream",
     "text": [
      "[0 1 2 4 5]\n"
     ]
    }
   ],
   "source": [
    "print(np.delete(an_array, 3))"
   ]
  },
  {
   "cell_type": "code",
   "execution_count": 10,
   "id": "a8f2ed30",
   "metadata": {},
   "outputs": [
    {
     "name": "stdout",
     "output_type": "stream",
     "text": [
      "[ 0  2  4  6  8 10]\n"
     ]
    }
   ],
   "source": [
    "print(an_array * 2)"
   ]
  },
  {
   "cell_type": "code",
   "execution_count": 11,
   "id": "a779b67a",
   "metadata": {},
   "outputs": [
    {
     "name": "stdout",
     "output_type": "stream",
     "text": [
      "[2 3 4 5 6 7]\n"
     ]
    }
   ],
   "source": [
    "print(an_array + 2)"
   ]
  },
  {
   "cell_type": "code",
   "execution_count": 12,
   "id": "53b8dd3a",
   "metadata": {},
   "outputs": [
    {
     "name": "stdout",
     "output_type": "stream",
     "text": [
      "[ 1  3  6  9 10 21]\n"
     ]
    }
   ],
   "source": [
    "another_array = np.array([3, 6, 21, 9, 10, 1])\n",
    "print(np.sort(another_array))"
   ]
  },
  {
   "cell_type": "code",
   "execution_count": 17,
   "id": "1b468e16",
   "metadata": {},
   "outputs": [
    {
     "name": "stdout",
     "output_type": "stream",
     "text": [
      "[21 10  9  6  3  1]\n"
     ]
    }
   ],
   "source": [
    "print(-np.sort(-another_array))"
   ]
  },
  {
   "cell_type": "code",
   "execution_count": null,
   "id": "156a03a0",
   "metadata": {},
   "outputs": [],
   "source": []
  }
 ],
 "metadata": {
  "kernelspec": {
   "display_name": "Python 3",
   "language": "python",
   "name": "python3"
  },
  "language_info": {
   "codemirror_mode": {
    "name": "ipython",
    "version": 3
   },
   "file_extension": ".py",
   "mimetype": "text/x-python",
   "name": "python",
   "nbconvert_exporter": "python",
   "pygments_lexer": "ipython3",
   "version": "3.8.8"
  }
 },
 "nbformat": 4,
 "nbformat_minor": 5
}
