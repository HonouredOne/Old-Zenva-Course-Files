{
 "cells": [
  {
   "cell_type": "markdown",
   "id": "92ebdeb9",
   "metadata": {},
   "source": [
    "Functions to modify elements or properties of a matrix"
   ]
  },
  {
   "cell_type": "code",
   "execution_count": 1,
   "id": "01493fcd",
   "metadata": {},
   "outputs": [],
   "source": [
    "import numpy as np"
   ]
  },
  {
   "cell_type": "code",
   "execution_count": 3,
   "id": "12089df2",
   "metadata": {},
   "outputs": [
    {
     "name": "stdout",
     "output_type": "stream",
     "text": [
      "[[1 2]\n",
      " [3 4]]\n"
     ]
    }
   ],
   "source": [
    "a_matrix = np.matrix([[1, 2 ], [3, 4]])\n",
    "print(a_matrix)"
   ]
  },
  {
   "cell_type": "code",
   "execution_count": 4,
   "id": "9fab3c71",
   "metadata": {},
   "outputs": [
    {
     "name": "stdout",
     "output_type": "stream",
     "text": [
      "[[ 1  2]\n",
      " [10  4]]\n"
     ]
    }
   ],
   "source": [
    "a_matrix[1, 0] = 10\n",
    "print(a_matrix)"
   ]
  },
  {
   "cell_type": "code",
   "execution_count": 5,
   "id": "c44c30eb",
   "metadata": {},
   "outputs": [
    {
     "name": "stdout",
     "output_type": "stream",
     "text": [
      "[[ 6  3]\n",
      " [10  4]]\n"
     ]
    }
   ],
   "source": [
    "a_matrix[0] = [6, 3]\n",
    "print(a_matrix)"
   ]
  },
  {
   "cell_type": "code",
   "execution_count": 7,
   "id": "ff81f00f",
   "metadata": {},
   "outputs": [
    {
     "name": "stdout",
     "output_type": "stream",
     "text": [
      "[[ 6  3]\n",
      " [10  4]]\n"
     ]
    }
   ],
   "source": [
    "print(-np.sort(-a_matrix))"
   ]
  },
  {
   "cell_type": "code",
   "execution_count": 8,
   "id": "a74fe166",
   "metadata": {},
   "outputs": [
    {
     "name": "stdout",
     "output_type": "stream",
     "text": [
      "[[1 3]\n",
      " [2 4]]\n"
     ]
    }
   ],
   "source": [
    "a_matrix = np.matrix([[1, 2 ], [3, 4]])\n",
    "print(a_matrix.T)"
   ]
  },
  {
   "cell_type": "code",
   "execution_count": 10,
   "id": "7f8ead7e",
   "metadata": {},
   "outputs": [
    {
     "name": "stdout",
     "output_type": "stream",
     "text": [
      "[[1 2 3 4]]\n"
     ]
    }
   ],
   "source": [
    "print(a_matrix.flatten())"
   ]
  },
  {
   "cell_type": "code",
   "execution_count": 12,
   "id": "631ac172",
   "metadata": {},
   "outputs": [
    {
     "name": "stdout",
     "output_type": "stream",
     "text": [
      "[[2 4]\n",
      " [6 8]]\n"
     ]
    }
   ],
   "source": [
    "print(a_matrix * 2)"
   ]
  },
  {
   "cell_type": "code",
   "execution_count": 14,
   "id": "eb68eebb",
   "metadata": {},
   "outputs": [
    {
     "name": "stdout",
     "output_type": "stream",
     "text": [
      "[[2 4]\n",
      " [6 8]]\n"
     ]
    }
   ],
   "source": [
    "print(np.add(a_matrix, a_matrix))"
   ]
  },
  {
   "cell_type": "code",
   "execution_count": 15,
   "id": "7096f0c3",
   "metadata": {},
   "outputs": [
    {
     "name": "stdout",
     "output_type": "stream",
     "text": [
      "[[ 7 10]\n",
      " [15 22]]\n"
     ]
    }
   ],
   "source": [
    "print(np.matmul(a_matrix, a_matrix))"
   ]
  },
  {
   "cell_type": "code",
   "execution_count": null,
   "id": "1ac3a706",
   "metadata": {},
   "outputs": [],
   "source": []
  }
 ],
 "metadata": {
  "kernelspec": {
   "display_name": "Python 3",
   "language": "python",
   "name": "python3"
  },
  "language_info": {
   "codemirror_mode": {
    "name": "ipython",
    "version": 3
   },
   "file_extension": ".py",
   "mimetype": "text/x-python",
   "name": "python",
   "nbconvert_exporter": "python",
   "pygments_lexer": "ipython3",
   "version": "3.8.8"
  }
 },
 "nbformat": 4,
 "nbformat_minor": 5
}
