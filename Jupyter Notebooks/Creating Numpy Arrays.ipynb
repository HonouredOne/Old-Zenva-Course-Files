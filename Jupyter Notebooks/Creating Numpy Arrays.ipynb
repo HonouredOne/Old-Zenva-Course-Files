{
 "cells": [
  {
   "cell_type": "markdown",
   "id": "7f5ed467",
   "metadata": {},
   "source": [
    "Creating Numpy Arrays"
   ]
  },
  {
   "cell_type": "code",
   "execution_count": 1,
   "id": "1afe4168",
   "metadata": {},
   "outputs": [
    {
     "name": "stdout",
     "output_type": "stream",
     "text": [
      "[1, 2, 3]\n"
     ]
    }
   ],
   "source": [
    "list_1 = [1, 2, 3]\n",
    "print(list_1)"
   ]
  },
  {
   "cell_type": "code",
   "execution_count": 2,
   "id": "65bf1427",
   "metadata": {},
   "outputs": [],
   "source": [
    "import numpy as np"
   ]
  },
  {
   "cell_type": "code",
   "execution_count": 3,
   "id": "3e02e5b7",
   "metadata": {},
   "outputs": [
    {
     "name": "stdout",
     "output_type": "stream",
     "text": [
      "[1 2 3]\n"
     ]
    }
   ],
   "source": [
    "numpy_1 = np.array(list_1)\n",
    "print(numpy_1)"
   ]
  },
  {
   "cell_type": "code",
   "execution_count": 4,
   "id": "cb27a7a7",
   "metadata": {},
   "outputs": [
    {
     "name": "stdout",
     "output_type": "stream",
     "text": [
      "[0. 0. 0. 0. 0.]\n"
     ]
    }
   ],
   "source": [
    "zeros_array = np.zeros(5)\n",
    "print(zeros_array)"
   ]
  },
  {
   "cell_type": "code",
   "execution_count": 6,
   "id": "aa8bf10e",
   "metadata": {},
   "outputs": [
    {
     "name": "stdout",
     "output_type": "stream",
     "text": [
      "[1. 1. 1. 1. 1. 1. 1. 1. 1. 1.]\n"
     ]
    }
   ],
   "source": [
    "ones_array = np.ones(10)\n",
    "print(ones_array)"
   ]
  },
  {
   "cell_type": "code",
   "execution_count": 7,
   "id": "b7636218",
   "metadata": {},
   "outputs": [
    {
     "name": "stdout",
     "output_type": "stream",
     "text": [
      "[0 1 2 3 4]\n"
     ]
    }
   ],
   "source": [
    "range_array_1 = np.arange(5)\n",
    "print(range_array_1)"
   ]
  },
  {
   "cell_type": "code",
   "execution_count": 8,
   "id": "8dd73c00",
   "metadata": {},
   "outputs": [
    {
     "name": "stdout",
     "output_type": "stream",
     "text": [
      "[ 5  6  7  8  9 10]\n"
     ]
    }
   ],
   "source": [
    "range_array_2 = np.arange(5, 11)\n",
    "print(range_array_2)"
   ]
  },
  {
   "cell_type": "code",
   "execution_count": 9,
   "id": "ed823052",
   "metadata": {},
   "outputs": [
    {
     "name": "stdout",
     "output_type": "stream",
     "text": [
      "[ 0  2  4  6  8 10 12 14 16 18]\n"
     ]
    }
   ],
   "source": [
    "range_array_3 = np.arange(0, 20, 2)\n",
    "print(range_array_3)"
   ]
  },
  {
   "cell_type": "code",
   "execution_count": 15,
   "id": "2581b127",
   "metadata": {},
   "outputs": [
    {
     "name": "stdout",
     "output_type": "stream",
     "text": [
      "[ 0.   2.5  5.   7.5 10. ]\n"
     ]
    }
   ],
   "source": [
    "linspace_array = np.linspace(0, 10, 5)\n",
    "print(linspace_array)"
   ]
  },
  {
   "cell_type": "code",
   "execution_count": null,
   "id": "11ac8f8f",
   "metadata": {},
   "outputs": [],
   "source": []
  }
 ],
 "metadata": {
  "kernelspec": {
   "display_name": "Python 3",
   "language": "python",
   "name": "python3"
  },
  "language_info": {
   "codemirror_mode": {
    "name": "ipython",
    "version": 3
   },
   "file_extension": ".py",
   "mimetype": "text/x-python",
   "name": "python",
   "nbconvert_exporter": "python",
   "pygments_lexer": "ipython3",
   "version": "3.8.8"
  }
 },
 "nbformat": 4,
 "nbformat_minor": 5
}
